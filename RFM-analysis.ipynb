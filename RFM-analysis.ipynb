{
 "cells": [
  {
   "cell_type": "markdown",
   "metadata": {},
   "source": [
    "## Описание задачи:\n",
    "Необходимо проанализировать поведение студентов на курсах, предметах и экзаменах онлайн-школы.\n",
    "\n",
    "### Описание данных:\n",
    "1. Assessments.csv - информация об оценках в тесте.\n",
    "* code_module - идентификационный код предмета.\n",
    "* code_presentation — идентификационный код семестра.\n",
    "* id_assessment — идентификационный номер ассессмента.\n",
    "* assessment_type — тип теста. (оценка преподавателя (TMA), компьютерная оценка (СМА), экзамен по курсу (Exam)).\n",
    "* date — информация об окончательной дате сдачи теста. Рассчитывается как количество дней с момента начала семестра. Дата начала семестра имеет номер 0.\n",
    "* weight — вес теста в % в оценке за курс. Обычно экзамены рассматриваются отдельно и имеют вес 100%. Сумма всех остальных оценок составляет 100%.\n",
    "2. Сourses.csv — информация о предметах по семестрам.\n",
    "* code_module — идентификационный код предмета.\n",
    "* code_presentation - идентификационный код семестра.\n",
    "* module_presentation_length — продолжительность семестра в днях.\n",
    "3. StudentAssessment.csv — информация о результатах тестов студентов.\n",
    "* id_assessment — идентификационный номер теста.\n",
    "* id_student — идентификационный номер студента.\n",
    "* date_submitted — дата сдачи теста студентом, измеряемая как количество дней с начала семестра.\n",
    "* is_banked — факт перезачета теста с прошлого семестра.\n",
    "* score — оценка учащегося в этом тесте. Диапазон составляет от 0 до 100. Оценка ниже 40 неудачная/неуспешная сдача теста.\n",
    "4.  StudentRegistration.csv — информация о времени, когда студент зарегистрировался для прохождения курса в семестре.\n",
    "* code_module - идентификационный код предмета.\n",
    "* code_presentation - идентификационный код семестра.\n",
    "* id_student - идентификационный номер студента.\n",
    "* date_registration - дата регистрации студента. Это количество дней, измеренное от начала семестра. (отрицательное значение -30  => студент зарегистрировался на прохождение курса за 30 дней до его начала).\n",
    "* date_unregistration -  дата отмены регистрации студента с предмета.\n",
    "\n",
    "### Ход исследования:"
   ]
  },
  {
   "cell_type": "code",
   "execution_count": 1,
   "metadata": {},
   "outputs": [],
   "source": [
    "import pandas as pd\n",
    "import requests\n",
    "from urllib.parse import urlencode\n",
    "import matplotlib.pyplot as plt\n",
    "import seaborn as sns"
   ]
  },
  {
   "cell_type": "code",
   "execution_count": 2,
   "metadata": {},
   "outputs": [],
   "source": [
    "def download_yandex_disk_files(public_keys, file_names):\n",
    "    \"\"\"\n",
    "    Функция для скачивания публичных файлов из яндекс диска\n",
    "    \"\"\"\n",
    "    base_url = 'https://cloud-api.yandex.net/v1/disk/public/resources/download?'\n",
    "    \n",
    "    for i in range(len(public_keys)):\n",
    "        # получаем ссылку для скачивания\n",
    "        final_url = base_url + urlencode(dict(public_key=public_keys[i]))\n",
    "        response = requests.get(final_url)\n",
    "        download_url = response.json()['href']\n",
    "        \n",
    "        # скачиваем файл\n",
    "        download_response = requests.get(download_url)\n",
    "        with open(file_names[i], 'wb') as f:\n",
    "            f.write(download_response.content)\n",
    "        print(f\"Файл {file_names[i]} успешно скачан!\")"
   ]
  },
  {
   "cell_type": "code",
   "execution_count": 3,
   "metadata": {},
   "outputs": [],
   "source": [
    "public_keys = [\n",
    "    'https://disk.yandex.ru/d/WG2u0PPEfUCWvw',\n",
    "    'https://disk.yandex.ru/d/51xrZHoHNy3R3Q',\n",
    "    'https://disk.yandex.ru/d/eCCGfl52Xp_4Lw',\n",
    "    'https://disk.yandex.ru/d/H_qZLNN9wgnAwQ'\n",
    "]\n",
    "\n",
    "file_names = [\n",
    "    'assessments.csv',\n",
    "    'courses.csv',\n",
    "    'studentAssessment.csv',\n",
    "    'studentRegistration.csv'\n",
    "]"
   ]
  },
  {
   "cell_type": "code",
   "execution_count": 4,
   "metadata": {},
   "outputs": [
    {
     "name": "stdout",
     "output_type": "stream",
     "text": [
      "Файл assessments.csv успешно скачан!\n",
      "Файл courses.csv успешно скачан!\n",
      "Файл studentAssessment.csv успешно скачан!\n",
      "Файл studentRegistration.csv успешно скачан!\n"
     ]
    }
   ],
   "source": [
    "# скачиваем файлы\n",
    "download_yandex_disk_files(public_keys, file_names)"
   ]
  },
  {
   "cell_type": "markdown",
   "metadata": {},
   "source": [
    "##### Посмотрим сколько студентов успешно сдали только один курс"
   ]
  },
  {
   "cell_type": "code",
   "execution_count": 5,
   "metadata": {},
   "outputs": [],
   "source": [
    "# данные об оценках в тесте\n",
    "assessments = pd.read_csv('assessments.csv')\n",
    "# данные о результатах тестов студентов\n",
    "student_assessment = pd.read_csv('studentAssessment.csv')\n",
    "# данные о времени, когда студент зарегистрировался для прохождения курса\n",
    "student_registration = pd.read_csv('studentRegistration.csv')\n",
    "# данные о курсах\n",
    "courses = pd.read_csv('courses.csv')"
   ]
  },
  {
   "cell_type": "code",
   "execution_count": 6,
   "metadata": {},
   "outputs": [
    {
     "name": "stdout",
     "output_type": "stream",
     "text": [
      "Количество студентов, сдавших один курс: 3802\n"
     ]
    }
   ],
   "source": [
    "# объединяем данные об оценках в тесте и результатах тестов студентов\n",
    "merge_as_st_as = assessments.merge(student_assessment, how='inner', on='id_assessment')\n",
    "# фильтруем данные по успешному экзамену\n",
    "exam_score = merge_as_st_as.loc[(merge_as_st_as['assessment_type'] == 'Exam') & (merge_as_st_as['score'] > 39)]\n",
    "# считаем студентов, которые сдали только 1 курс\n",
    "count_student_sucess_exam = len(exam_score.groupby('id_student', as_index=False)\\\n",
    "                                .agg({'id_assessment':'count'}).query('id_assessment==1'))\n",
    "print(f'Количество студентов, сдавших один курс: {count_student_sucess_exam}')"
   ]
  },
  {
   "cell_type": "markdown",
   "metadata": {},
   "source": [
    "##### Выведем курсы по возрастанию уровня завершаемости*\n",
    "*завершаемость = кол-во успешных экзаменов/кол-во всех попыток сдать экзамен * 100."
   ]
  },
  {
   "cell_type": "code",
   "execution_count": 7,
   "metadata": {},
   "outputs": [
    {
     "data": {
      "text/html": [
       "<div>\n",
       "<style scoped>\n",
       "    .dataframe tbody tr th:only-of-type {\n",
       "        vertical-align: middle;\n",
       "    }\n",
       "\n",
       "    .dataframe tbody tr th {\n",
       "        vertical-align: top;\n",
       "    }\n",
       "\n",
       "    .dataframe thead th {\n",
       "        text-align: right;\n",
       "    }\n",
       "</style>\n",
       "<table border=\"1\" class=\"dataframe\">\n",
       "  <thead>\n",
       "    <tr style=\"text-align: right;\">\n",
       "      <th></th>\n",
       "      <th>id_assessment</th>\n",
       "      <th>sum_exam_try</th>\n",
       "      <th>sucess_exam_try</th>\n",
       "      <th>level_end</th>\n",
       "    </tr>\n",
       "  </thead>\n",
       "  <tbody>\n",
       "    <tr>\n",
       "      <th>2</th>\n",
       "      <td>25340</td>\n",
       "      <td>602</td>\n",
       "      <td>504</td>\n",
       "      <td>83.720930</td>\n",
       "    </tr>\n",
       "    <tr>\n",
       "      <th>1</th>\n",
       "      <td>24299</td>\n",
       "      <td>1168</td>\n",
       "      <td>1019</td>\n",
       "      <td>87.243151</td>\n",
       "    </tr>\n",
       "    <tr>\n",
       "      <th>5</th>\n",
       "      <td>25368</td>\n",
       "      <td>950</td>\n",
       "      <td>842</td>\n",
       "      <td>88.631579</td>\n",
       "    </tr>\n",
       "    <tr>\n",
       "      <th>0</th>\n",
       "      <td>24290</td>\n",
       "      <td>747</td>\n",
       "      <td>664</td>\n",
       "      <td>88.888889</td>\n",
       "    </tr>\n",
       "    <tr>\n",
       "      <th>3</th>\n",
       "      <td>25354</td>\n",
       "      <td>968</td>\n",
       "      <td>878</td>\n",
       "      <td>90.702479</td>\n",
       "    </tr>\n",
       "    <tr>\n",
       "      <th>4</th>\n",
       "      <td>25361</td>\n",
       "      <td>524</td>\n",
       "      <td>485</td>\n",
       "      <td>92.557252</td>\n",
       "    </tr>\n",
       "  </tbody>\n",
       "</table>\n",
       "</div>"
      ],
      "text/plain": [
       "   id_assessment  sum_exam_try  sucess_exam_try  level_end\n",
       "2          25340           602              504  83.720930\n",
       "1          24299          1168             1019  87.243151\n",
       "5          25368           950              842  88.631579\n",
       "0          24290           747              664  88.888889\n",
       "3          25354           968              878  90.702479\n",
       "4          25361           524              485  92.557252"
      ]
     },
     "execution_count": 7,
     "metadata": {},
     "output_type": "execute_result"
    }
   ],
   "source": [
    "# датасет об оценках и о результатах тестов только экзаменов\n",
    "exam_df = merge_as_st_as.loc[merge_as_st_as['assessment_type']=='Exam']\n",
    "\n",
    "# суммарное количество попыток сдать экзамен\n",
    "course_exam_try = exam_df.groupby('id_assessment', as_index=False)\\\n",
    "                         .agg({'assessment_type':'count'})\\\n",
    "                         .rename(columns={'assessment_type':'sum_exam_try'})\n",
    "# количество успешно сданных экзаменов\n",
    "exam_sucess = exam_score.groupby('id_assessment', as_index=False)\\\n",
    "                            .agg({'assessment_type':'count'})\\\n",
    "                            .rename(columns={'assessment_type':'sucess_exam_try'})\n",
    "# объединенный датафрейм\n",
    "exam_df_success_and_no = course_exam_try.merge(exam_sucess, how='inner', on='id_assessment')\n",
    "\n",
    "# уровень завершенности\n",
    "exam_df_success_and_no['level_end'] = exam_df_success_and_no['sucess_exam_try'] / exam_df_success_and_no['sum_exam_try'] * 100\n",
    "\n",
    "# сортировка для курсов\n",
    "exam_df_success_and_no = exam_df_success_and_no.sort_values(by='level_end')\n",
    "\n",
    "# итог\n",
    "exam_df_success_and_no"
   ]
  },
  {
   "cell_type": "markdown",
   "metadata": {},
   "source": [
    "##### Самые популярные предметы (ТОП-3) по количеству регистраций на них"
   ]
  },
  {
   "cell_type": "code",
   "execution_count": 8,
   "metadata": {},
   "outputs": [
    {
     "data": {
      "text/html": [
       "<div>\n",
       "<style scoped>\n",
       "    .dataframe tbody tr th:only-of-type {\n",
       "        vertical-align: middle;\n",
       "    }\n",
       "\n",
       "    .dataframe tbody tr th {\n",
       "        vertical-align: top;\n",
       "    }\n",
       "\n",
       "    .dataframe thead th {\n",
       "        text-align: right;\n",
       "    }\n",
       "</style>\n",
       "<table border=\"1\" class=\"dataframe\">\n",
       "  <thead>\n",
       "    <tr style=\"text-align: right;\">\n",
       "      <th></th>\n",
       "      <th>code_module</th>\n",
       "      <th>cnt_registration</th>\n",
       "    </tr>\n",
       "  </thead>\n",
       "  <tbody>\n",
       "    <tr>\n",
       "      <th>1</th>\n",
       "      <td>BBB</td>\n",
       "      <td>7909</td>\n",
       "    </tr>\n",
       "    <tr>\n",
       "      <th>5</th>\n",
       "      <td>FFF</td>\n",
       "      <td>7762</td>\n",
       "    </tr>\n",
       "    <tr>\n",
       "      <th>3</th>\n",
       "      <td>DDD</td>\n",
       "      <td>6272</td>\n",
       "    </tr>\n",
       "  </tbody>\n",
       "</table>\n",
       "</div>"
      ],
      "text/plain": [
       "  code_module  cnt_registration\n",
       "1         BBB              7909\n",
       "5         FFF              7762\n",
       "3         DDD              6272"
      ]
     },
     "execution_count": 8,
     "metadata": {},
     "output_type": "execute_result"
    }
   ],
   "source": [
    "student_registration.groupby('code_module', as_index=False)\\\n",
    "                    .agg({'id_student':'count'})\\\n",
    "                    .rename(columns={'id_student':'cnt_registration'})\\\n",
    "                    .sort_values(by='cnt_registration', ascending=False)\\\n",
    "                    .head(3)"
   ]
  },
  {
   "cell_type": "markdown",
   "metadata": {},
   "source": [
    "##### Предметы с самым большим оттоком* (ТОП-3)\n",
    "*Отток в данном случае — это отмена регистрации на предмет."
   ]
  },
  {
   "cell_type": "code",
   "execution_count": 9,
   "metadata": {},
   "outputs": [],
   "source": [
    "# данные только о тех регистрациях, которые отменились\n",
    "ottok_student = student_registration.loc[~student_registration['date_unregistration'].isnull()]"
   ]
  },
  {
   "cell_type": "code",
   "execution_count": 10,
   "metadata": {},
   "outputs": [
    {
     "data": {
      "text/html": [
       "<div>\n",
       "<style scoped>\n",
       "    .dataframe tbody tr th:only-of-type {\n",
       "        vertical-align: middle;\n",
       "    }\n",
       "\n",
       "    .dataframe tbody tr th {\n",
       "        vertical-align: top;\n",
       "    }\n",
       "\n",
       "    .dataframe thead th {\n",
       "        text-align: right;\n",
       "    }\n",
       "</style>\n",
       "<table border=\"1\" class=\"dataframe\">\n",
       "  <thead>\n",
       "    <tr style=\"text-align: right;\">\n",
       "      <th></th>\n",
       "      <th>code_module</th>\n",
       "      <th>cnt_student</th>\n",
       "    </tr>\n",
       "  </thead>\n",
       "  <tbody>\n",
       "    <tr>\n",
       "      <th>5</th>\n",
       "      <td>FFF</td>\n",
       "      <td>2380</td>\n",
       "    </tr>\n",
       "    <tr>\n",
       "      <th>1</th>\n",
       "      <td>BBB</td>\n",
       "      <td>2377</td>\n",
       "    </tr>\n",
       "    <tr>\n",
       "      <th>3</th>\n",
       "      <td>DDD</td>\n",
       "      <td>2235</td>\n",
       "    </tr>\n",
       "  </tbody>\n",
       "</table>\n",
       "</div>"
      ],
      "text/plain": [
       "  code_module  cnt_student\n",
       "5         FFF         2380\n",
       "1         BBB         2377\n",
       "3         DDD         2235"
      ]
     },
     "execution_count": 10,
     "metadata": {},
     "output_type": "execute_result"
    }
   ],
   "source": [
    "ottok_student.groupby('code_module', as_index=False)\\\n",
    "             .agg({'date_unregistration':'count'})\\\n",
    "             .rename(columns={'date_unregistration':'cnt_student'})\\\n",
    "             .sort_values(by='cnt_student', ascending=False)\\\n",
    "             .head(3)"
   ]
  },
  {
   "cell_type": "markdown",
   "metadata": {},
   "source": [
    "##### Семестр с самой низкой завершаемостью курсов"
   ]
  },
  {
   "cell_type": "code",
   "execution_count": 11,
   "metadata": {},
   "outputs": [],
   "source": [
    "# информация о попытках сдать экзамен в течение семестра\n",
    "count_exam_try_in_semestr = merge_as_st_as.groupby('code_presentation', as_index=False)\\\n",
    "                                          .agg({'id_assessment':'count'})\\\n",
    "                                          .rename(columns={'id_assessment':'sum_cnt_try'})"
   ]
  },
  {
   "cell_type": "code",
   "execution_count": 12,
   "metadata": {},
   "outputs": [],
   "source": [
    "# информация об успешных попытках сдать экзамен в течение семестра\n",
    "count_exam_try_in_semestr_suc = exam_score.groupby('code_presentation', as_index=False)\\\n",
    "                                          .agg({'id_assessment':'count'})\\\n",
    "                                          .rename(columns={'id_assessment':'cnt_try_suc'})"
   ]
  },
  {
   "cell_type": "code",
   "execution_count": 13,
   "metadata": {},
   "outputs": [
    {
     "name": "stdout",
     "output_type": "stream",
     "text": [
      "Семестр с самой низкой завершаемостью курсов: 2013B\n"
     ]
    }
   ],
   "source": [
    "# объединенный датафрейм о семестре\n",
    "sem_exam_level = count_exam_try_in_semestr_suc.merge(count_exam_try_in_semestr, how='inner', on='code_presentation')\n",
    "\n",
    "# уровень завершенности в рамках семестра\n",
    "sem_exam_level['level_end'] = sem_exam_level['cnt_try_suc'] / sem_exam_level['sum_cnt_try'] * 100\n",
    "\n",
    "# семестр с самой низкой завершаемостью курсов\n",
    "sem_min_level = sem_exam_level[sem_exam_level['level_end'] == sem_exam_level['level_end']\\\n",
    "                               .min()]['code_presentation'].iloc[0]\n",
    "print(f'Семестр с самой низкой завершаемостью курсов: {sem_min_level}')"
   ]
  },
  {
   "cell_type": "markdown",
   "metadata": {},
   "source": [
    "##### Семестр с самыми долгими средними сроками сдачи курсов"
   ]
  },
  {
   "cell_type": "code",
   "execution_count": 14,
   "metadata": {},
   "outputs": [
    {
     "data": {
      "text/html": [
       "<div>\n",
       "<style scoped>\n",
       "    .dataframe tbody tr th:only-of-type {\n",
       "        vertical-align: middle;\n",
       "    }\n",
       "\n",
       "    .dataframe tbody tr th {\n",
       "        vertical-align: top;\n",
       "    }\n",
       "\n",
       "    .dataframe thead th {\n",
       "        text-align: right;\n",
       "    }\n",
       "</style>\n",
       "<table border=\"1\" class=\"dataframe\">\n",
       "  <thead>\n",
       "    <tr style=\"text-align: right;\">\n",
       "      <th></th>\n",
       "      <th>code_presentation</th>\n",
       "      <th>mean_period</th>\n",
       "    </tr>\n",
       "  </thead>\n",
       "  <tbody>\n",
       "    <tr>\n",
       "      <th>3</th>\n",
       "      <td>2014J</td>\n",
       "      <td>243.680279</td>\n",
       "    </tr>\n",
       "  </tbody>\n",
       "</table>\n",
       "</div>"
      ],
      "text/plain": [
       "  code_presentation  mean_period\n",
       "3             2014J   243.680279"
      ]
     },
     "execution_count": 14,
     "metadata": {},
     "output_type": "execute_result"
    }
   ],
   "source": [
    "exam_score.groupby('code_presentation', as_index=False)\\\n",
    "          .agg({'date_submitted':'mean'})\\\n",
    "          .rename(columns={'date_submitted':'mean_period'})\\\n",
    "          .sort_values(by='mean_period', ascending=False)\\\n",
    "          .head(1)"
   ]
  },
  {
   "cell_type": "markdown",
   "metadata": {},
   "source": [
    "### RMF-сегментация\n",
    "\n",
    "R — среднее время сдачи одного экзамена,\n",
    "\n",
    "F — завершаемость курсов,\n",
    "\n",
    "M — среднее количество баллов, получаемое за экзамен."
   ]
  },
  {
   "cell_type": "code",
   "execution_count": 15,
   "metadata": {},
   "outputs": [],
   "source": [
    "# данные по recency\n",
    "df_rec = exam_df.groupby(['id_student'], as_index=False)\\\n",
    "                   .agg({'date_submitted':'mean'})\\\n",
    "                   .rename(columns={'date_submitted':'recency'})"
   ]
  },
  {
   "cell_type": "code",
   "execution_count": 16,
   "metadata": {},
   "outputs": [
    {
     "data": {
      "text/plain": [
       "np.float64(229.0)"
      ]
     },
     "execution_count": 16,
     "metadata": {},
     "output_type": "execute_result"
    }
   ],
   "source": [
    "df_rec['recency'].min()  # минимальная граница по recency"
   ]
  },
  {
   "cell_type": "code",
   "execution_count": 17,
   "metadata": {},
   "outputs": [
    {
     "data": {
      "text/plain": [
       "np.float64(285.0)"
      ]
     },
     "execution_count": 17,
     "metadata": {},
     "output_type": "execute_result"
    }
   ],
   "source": [
    "df_rec['recency'].max()  # максимальная граница по recency"
   ]
  },
  {
   "cell_type": "code",
   "execution_count": 18,
   "metadata": {},
   "outputs": [],
   "source": [
    "# данные по monetary\n",
    "df_mon = exam_df.groupby('id_student', as_index=False)\\\n",
    "                       .agg({'score':'mean'})\\\n",
    "                       .rename(columns={'score':'monetary'})"
   ]
  },
  {
   "cell_type": "code",
   "execution_count": 19,
   "metadata": {},
   "outputs": [
    {
     "data": {
      "text/plain": [
       "np.float64(0.0)"
      ]
     },
     "execution_count": 19,
     "metadata": {},
     "output_type": "execute_result"
    }
   ],
   "source": [
    "df_mon.monetary.min()  # минимальная граница по monetary"
   ]
  },
  {
   "cell_type": "code",
   "execution_count": 20,
   "metadata": {},
   "outputs": [
    {
     "data": {
      "text/plain": [
       "np.float64(100.0)"
      ]
     },
     "execution_count": 20,
     "metadata": {},
     "output_type": "execute_result"
    }
   ],
   "source": [
    "df_mon.monetary.max()  # максимальная граница по monetary"
   ]
  },
  {
   "cell_type": "code",
   "execution_count": 21,
   "metadata": {},
   "outputs": [],
   "source": [
    "# количество попыток сдать экзамен для каждого студента\n",
    "student_sum_exam = exam_df.groupby('id_student', as_index=False).agg({'id_assessment':'count'})\\\n",
    "                          .rename(columns={'id_assessment':'cnt_exam'})"
   ]
  },
  {
   "cell_type": "code",
   "execution_count": 22,
   "metadata": {},
   "outputs": [],
   "source": [
    "# количество успешных попыток сдать экзамен для каждого студента\n",
    "cnt_student_success_exam = exam_score.groupby('id_student', as_index=False).agg({'id_assessment':'count'})\\\n",
    "                                     .rename(columns={'id_assessment':'success_exam'})"
   ]
  },
  {
   "cell_type": "code",
   "execution_count": 23,
   "metadata": {},
   "outputs": [],
   "source": [
    "# frequency\n",
    "df_freq = student_sum_exam.merge(cnt_student_success_exam, how='left', on='id_student').fillna(0)"
   ]
  },
  {
   "cell_type": "code",
   "execution_count": 24,
   "metadata": {},
   "outputs": [],
   "source": [
    "df_freq['frequency']= df_freq['success_exam'] / df_freq['cnt_exam'] * 100"
   ]
  },
  {
   "cell_type": "code",
   "execution_count": 25,
   "metadata": {},
   "outputs": [],
   "source": [
    "# оставляем нужные столбцы\n",
    "df_freq_need_col = df_freq[['id_student', 'frequency']]"
   ]
  },
  {
   "cell_type": "markdown",
   "metadata": {},
   "source": [
    "RFM-сегментация"
   ]
  },
  {
   "cell_type": "code",
   "execution_count": 26,
   "metadata": {},
   "outputs": [],
   "source": [
    "# объединяем данные (recency, monetary, frequency)\n",
    "df_rmf = pd.concat([df_rec, df_mon, df_freq_need_col], axis=1)"
   ]
  },
  {
   "cell_type": "code",
   "execution_count": 27,
   "metadata": {},
   "outputs": [],
   "source": [
    "df_rmf = df_rmf[['recency', 'monetary', 'frequency']]"
   ]
  },
  {
   "cell_type": "code",
   "execution_count": 28,
   "metadata": {},
   "outputs": [],
   "source": [
    "# выставление шкалы по monetary\n",
    "df_rmf['M'] = df_rmf.monetary.apply(lambda x: 1 if x < 40 else\\\n",
    "                      (2 if x <= 80 else 3))\n",
    "\n",
    "# выставление шкалы по recency\n",
    "median_recency = df_rmf['recency'].median() # медиана recency\n",
    "df_rmf['R'] = df_rmf.recency.apply(lambda x: 2 if x <= median_recency else 1)\n",
    "\n",
    "# шкала для frequency\n",
    "df_rmf['F'] = df_rmf.frequency.apply(lambda x: 1 if x < 50 else\\\n",
    "                        (2 if x < 100 else 3))"
   ]
  },
  {
   "cell_type": "code",
   "execution_count": 29,
   "metadata": {},
   "outputs": [],
   "source": [
    "df_rmf['RFM'] = df_rmf['R'].astype(str) + df_rmf['F'].astype(str) + df_rmf['M'].astype(str)"
   ]
  },
  {
   "cell_type": "markdown",
   "metadata": {},
   "source": [
    "1 - худшее значение, 3 - лучшее. Из совокупности трех показателей с одинаковыми оценками складывается сегмент:\n",
    "- R1—F1—M(1-3) — потерянные\n",
    "- R1—F(2-3)—M(1-3) — лояльные студенты, потерявшие активность\n",
    "- R2-F(1-2)-M(1-3) — спящие\n",
    "- R2-F3-M(1-3) — лояльные спящие студенты\n",
    "- R3—F1—M(1-3) — новички\n",
    "- R3—F2—M(1-3) — развивающиеся\n",
    "- R3—F3—M3 — постоянные"
   ]
  },
  {
   "cell_type": "code",
   "execution_count": 30,
   "metadata": {},
   "outputs": [],
   "source": [
    "# присвоение сегмента\n",
    "df_rmf['segment'] = 'другие'\n",
    "df_rmf.loc[(df_rmf['R'] == 1) & (df_rmf['F'] == 1), 'Segment'] = 'потерянные'\n",
    "df_rmf.loc[(df_rmf['R'] == 1) & (df_rmf['F'].isin([2,3])), 'Segment'] = 'лояльные, потерявшие активность'\n",
    "df_rmf.loc[(df_rmf['R'] == 2) & (df_rmf['F'].isin([1,2])), 'Segment'] = 'спящие'\n",
    "df_rmf.loc[(df_rmf['R'] == 2) & (df_rmf['F'] == 3), 'Segment'] = 'лояльные спящие'\n",
    "df_rmf.loc[(df_rmf['R'] == 3) & (df_rmf['F'] == 1), 'Segment'] = 'новички'\n",
    "df_rmf.loc[(df_rmf['R'] == 3) & (df_rmf['F'] == 2), 'Segment'] = 'развивающиеся'\n",
    "df_rmf.loc[(df_rmf['R'] == 3) & (df_rmf['F'] == 3) & (df_rmf['M'] == 3), 'Segment'] = 'постоянные'"
   ]
  },
  {
   "cell_type": "code",
   "execution_count": 31,
   "metadata": {},
   "outputs": [
    {
     "data": {
      "image/png": "[encoded data removed]",
      "text/plain": [
       "<Figure size 1000x600 with 1 Axes>"
      ]
     },
     "metadata": {},
     "output_type": "display_data"
    }
   ],
   "source": [
    "# подсчет количества клиентов в каждом сегменте\n",
    "segments_counts = df_rmf['Segment'].value_counts().sort_values(ascending=True)\n",
    "\n",
    "# график\n",
    "fig, ax = plt.subplots(figsize=(10, 6))\n",
    "\n",
    "important_segments = ['постоянные', 'развивающиеся', 'лояльные спящие'] \n",
    "\n",
    "# рисуем горизонтальные столбцы\n",
    "bars = ax.barh(range(len(segments_counts)),\n",
    "              segments_counts,\n",
    "              color='silver',\n",
    "              height=0.7)  \n",
    "\n",
    "# оформление графика\n",
    "ax.set_frame_on(False)\n",
    "ax.tick_params(left=False,\n",
    "               bottom=False,\n",
    "               labelbottom=False)\n",
    "ax.set_yticks(range(len(segments_counts)))\n",
    "ax.set_yticklabels(segments_counts.index, fontsize=12)\n",
    "\n",
    "\n",
    "for i, bar in enumerate(bars):\n",
    "    value = bar.get_width()\n",
    "    if segments_counts.index[i] in important_segments:\n",
    "        bar.set_color('firebrick')\n",
    "    ax.text(value + segments_counts.max()*0.01,  \n",
    "            bar.get_y() + bar.get_height()/2,\n",
    "            '{:,} ({:.0f}%)'.format(int(value), value*100/segments_counts.sum()),\n",
    "            va='center',\n",
    "            ha='left',\n",
    "            fontsize=11)\n",
    "\n",
    "plt.title('Распределение клиентов по RFM-сегментам', fontsize=14, pad=20)\n",
    "plt.tight_layout()\n",
    "plt.show()"
   ]
  },
  {
   "cell_type": "markdown",
   "metadata": {},
   "source": [
    "1. Лояльные спящие (46%) — 2133 студента:\n",
    "- Студенты совершали платежи ранее, но сейчас перестали.\n",
    "- Это студенты, которые, скорее всего, прошли несколько курсов, но не записались на новые.\n",
    "- Их можно попробовать вернуть, предложив скидки или персонализированные предложения.\n",
    "\n",
    "2. Лояльные, потерявшие активность (42%) — 1940 студентов:\n",
    "- Это студенты, которые были активными и приносили хороший доход, но их недавняя активность снизилась.\n",
    "- Это важный сегмент, так как они уже доверяют школе и, возможно, готовы вернуться при правильной мотивации (например, курс продолжения, вебинары, напоминания о возможностях развития).\n",
    "\n",
    "3. Спящие (6%) — 293 студента:\n",
    "- Они когда-то совершали покупки, но в малом количестве.\n",
    "- Скорее всего, это те, кто попробовал обучение, но не продолжил.\n",
    "- Можно предложить им пробные уроки, бесплатные материалы или персональные рекомендации.\n",
    "\n",
    "4. Потерянные (6%) — 267 студентов:\n",
    "- Это пользователи, которые давно не совершали оплат и, вероятно, больше не вернутся.\n",
    "- Их сложно реанимировать, но можно протестировать автоматизированные рассылки с предложением вернуться."
   ]
  },
  {
   "cell_type": "code",
   "execution_count": 32,
   "metadata": {},
   "outputs": [
    {
     "data": {
      "image/png": "[encoded data removed]",
      "text/plain": [
       "<Figure size 1000x400 with 2 Axes>"
      ]
     },
     "metadata": {},
     "output_type": "display_data"
    },
    {
     "data": {
      "image/png": "[encoded data removed]",
      "text/plain": [
       "<Figure size 1000x1000 with 9 Axes>"
      ]
     },
     "metadata": {},
     "output_type": "display_data"
    }
   ],
   "source": [
    "# 1. распределение клиентов по R и F \n",
    "fig, axes = plt.subplots(nrows=1, ncols=2, figsize=(10, 4))\n",
    "\n",
    "for i, p in enumerate(['R', 'F']):\n",
    "    parameters = {'R': 'Recency (последняя активность)', \n",
    "                 'F': 'Frequency (частота)'}\n",
    "    y = df_rmf[p].value_counts().sort_index()\n",
    "    x = y.index\n",
    "    \n",
    "    ax = axes[i]\n",
    "    bars = ax.bar(x, y, color='silver')  \n",
    "    \n",
    "    # Настройка осей\n",
    "    ax.set_xlabel('Значение ' + p, fontsize=12)\n",
    "    ax.set_xticks([1, 2, 3])  \n",
    "    ax.set_xticklabels(['1', '2', '3'], fontsize=12)\n",
    "    \n",
    "    # включаем только левую ось Y\n",
    "    ax.spines['left'].set_visible(True)\n",
    "    ax.spines['right'].set_visible(False)\n",
    "    ax.spines['top'].set_visible(False)\n",
    "    ax.spines['bottom'].set_visible(True)\n",
    "    \n",
    "    ax.tick_params(axis='y', left=True, labelleft=True) \n",
    "    \n",
    "    ax.set_title(parameters[p], fontsize=14, pad=20)\n",
    "    \n",
    "    # аннотации на столбцах\n",
    "    for bar in bars:\n",
    "        value = bar.get_height()\n",
    "        if value == y.max():\n",
    "            bar.set_color('firebrick')  \n",
    "        ax.text(bar.get_x() + bar.get_width() / 2,\n",
    "                value + max(y)*0.02,  \n",
    "                f'{value}\\n({value/y.sum():.1%})',\n",
    "                ha='center',\n",
    "                va='bottom',\n",
    "                color='black',\n",
    "                fontsize=10)\n",
    "\n",
    "plt.suptitle('Распределение клиентов по Recency и Frequency', fontsize=16, y=1.05)\n",
    "plt.tight_layout()\n",
    "plt.show()\n",
    "\n",
    "# 2. распределение M для каждой комбинации R и F \n",
    "fig, axes = plt.subplots(nrows=3, ncols=3,\n",
    "                         sharex=False, sharey=True,\n",
    "                         figsize=(10, 10))\n",
    "\n",
    "r_range = range(1, 4)  \n",
    "f_range = range(1, 4)  \n",
    "\n",
    "for r in r_range:\n",
    "    for f in f_range:\n",
    "        y = df_rmf[(df_rmf['R'] == r) & (df_rmf['F'] == f)]['M'].value_counts().sort_index()\n",
    "        x = y.index\n",
    "        ax = axes[r - 1, f - 1]\n",
    "        bars = ax.bar(x, y, color='silver')\n",
    "        \n",
    "        # Подписи осей\n",
    "        if r == 3:  # Последняя строка\n",
    "            ax.set_xlabel('F={}'.format(f), va='top')\n",
    "        if f == 1:  # Первая колонка\n",
    "            ax.set_ylabel('R={}'.format(r))\n",
    "            \n",
    "        ax.set_frame_on(False)\n",
    "        ax.tick_params(left=False, labelleft=False, bottom=False)\n",
    "        ax.set_xticks(x)\n",
    "        ax.set_xticklabels(x, fontsize=8)\n",
    "\n",
    "        for bar in bars:\n",
    "            value = bar.get_height()\n",
    "            if value == y.max() and not pd.isna(value):\n",
    "                bar.set_color('firebrick')\n",
    "            if value > 0:  \n",
    "                ax.text(bar.get_x() + bar.get_width() / 2,\n",
    "                        value,\n",
    "                        int(value),\n",
    "                        ha='center',\n",
    "                        va='bottom',\n",
    "                        color='k')\n",
    "\n",
    "fig.suptitle('Распределение Monetary (M) для каждой комбинации Recency (R) и Frequency (F)',\n",
    "             fontsize=14, y=1.02)\n",
    "plt.tight_layout()\n",
    "plt.show()"
   ]
  },
  {
   "cell_type": "markdown",
   "metadata": {},
   "source": [
    "Студенты с F=1 (разовая покупка):\n",
    "- Большинство из них платиили небольшие суммы (возможно это те, кто купил 1 курс или прошли пробное обучение).\n",
    "- Их низкий вклад в выручку означает, что они либо не возвращаются, либо не переходят на более дорогие программы.\n",
    "\n",
    "Студенты с F=2 (повторные покупки):\n",
    "- Если их R=1|2 (недавний платеж), то они приносят максимальную выручку (~1325–1555).\n",
    "- Но если R=3 (давно не платили), их вклад в выручку резко падает.\n",
    "\n",
    "Студенты с F=3 (лояльные клиенты):\n",
    "- Они стабильно приносят деньги (~578–611), даже если R=2.\n",
    "- Это говорит о сформированной привычке к обучению."
   ]
  },
  {
   "cell_type": "markdown",
   "metadata": {},
   "source": [
    "### Выводы\n",
    "1. Основной доход приносят студенты с F=2, но есть риск их потери. Нужно удерживать их, предлагая скидки, персональные рекомендации или бонусы.\n",
    "2. Группа с F=1 требует анализа: если это пробные пользователи, стоит включать их в ретаргетинг и предлагать продолжение.\n",
    "3. Лояльные студенты (F=3) стабильны, но их можно поощрять программами лояльности, чтобы увеличить их денежный вклад.\n",
    "4. Почти 90% студентов (лояльные спящие + потерявшие активность) — это потенциально возвратные клиенты (можно запустить email-кампании с персонализированными предложениями; использовать ретаргетинг в соцсетях и тд)"
   ]
  }
 ],
 "metadata": {
  "kernelspec": {
   "display_name": "Python 3 (ipykernel)",
   "language": "python",
   "name": "python3"
  },
  "language_info": {
   "codemirror_mode": {
    "name": "ipython",
    "version": 3
   },
   "file_extension": ".py",
   "mimetype": "text/x-python",
   "name": "python",
   "nbconvert_exporter": "python",
   "pygments_lexer": "ipython3",
   "version": "3.12.8"
  }
 },
 "nbformat": 4,
 "nbformat_minor": 4
}
